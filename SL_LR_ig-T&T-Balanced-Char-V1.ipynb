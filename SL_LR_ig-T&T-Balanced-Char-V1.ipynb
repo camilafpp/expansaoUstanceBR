{
 "cells": [
  {
   "cell_type": "code",
   "execution_count": 64,
   "metadata": {},
   "outputs": [],
   "source": [
    "import pandas as pd\n",
    "from sklearn.feature_extraction.text import TfidfVectorizer\n",
    "from sklearn.feature_extraction.text import CountVectorizer\n",
    "import numpy as np\n",
    "from scipy import sparse"
   ]
  },
  {
   "cell_type": "code",
   "execution_count": 65,
   "metadata": {},
   "outputs": [
    {
     "data": {
      "text/html": [
       "<div>\n",
       "<style scoped>\n",
       "    .dataframe tbody tr th:only-of-type {\n",
       "        vertical-align: middle;\n",
       "    }\n",
       "\n",
       "    .dataframe tbody tr th {\n",
       "        vertical-align: top;\n",
       "    }\n",
       "\n",
       "    .dataframe thead th {\n",
       "        text-align: right;\n",
       "    }\n",
       "</style>\n",
       "<table border=\"1\" class=\"dataframe\">\n",
       "  <thead>\n",
       "    <tr style=\"text-align: right;\">\n",
       "      <th></th>\n",
       "      <th>Text</th>\n",
       "      <th>Target</th>\n",
       "      <th>Polarity</th>\n",
       "      <th>Factual</th>\n",
       "      <th>User_ID</th>\n",
       "      <th>Tweet_ID</th>\n",
       "      <th>Tweet_Seq</th>\n",
       "      <th>POS</th>\n",
       "      <th>Mentions</th>\n",
       "      <th>Nouns</th>\n",
       "    </tr>\n",
       "  </thead>\n",
       "  <tbody>\n",
       "    <tr>\n",
       "      <th>0</th>\n",
       "      <td>É tão bom ir na igreja e sentir a presença de ...</td>\n",
       "      <td>r2_ig</td>\n",
       "      <td>1</td>\n",
       "      <td>no</td>\n",
       "      <td>r2_ig_925</td>\n",
       "      <td>_1156010166719959040</td>\n",
       "      <td>3075</td>\n",
       "      <td>[('é', 'V'), ('tão', 'ADV'), ('bom', 'ADJ'), (...</td>\n",
       "      <td>[]</td>\n",
       "      <td>{'deus': 1, 'presença': 1, 'igreja': 1, 'culto...</td>\n",
       "    </tr>\n",
       "    <tr>\n",
       "      <th>1</th>\n",
       "      <td>Mano eu admiro muito pessoas que entram pra ig...</td>\n",
       "      <td>r2_ig</td>\n",
       "      <td>1</td>\n",
       "      <td>no</td>\n",
       "      <td>r2_ig_73</td>\n",
       "      <td>_1220808284304789504</td>\n",
       "      <td>2659</td>\n",
       "      <td>[('mano', 'N'), ('eu', 'PROPESS'), ('admiro', ...</td>\n",
       "      <td>[]</td>\n",
       "      <td>{'igreja': 3, 'mundo': 2, 'pessoas': 1, 'palav...</td>\n",
       "    </tr>\n",
       "    <tr>\n",
       "      <th>2</th>\n",
       "      <td>Fuma não amigo, vamos pra igreja</td>\n",
       "      <td>r2_ig</td>\n",
       "      <td>1</td>\n",
       "      <td>no</td>\n",
       "      <td>r2_ig_901</td>\n",
       "      <td>_1185186519490932741</td>\n",
       "      <td>2239</td>\n",
       "      <td>[('fuma', 'V'), ('não', 'ADV'), ('amigo', 'N')...</td>\n",
       "      <td>[]</td>\n",
       "      <td>{'amigo': 1, 'igreja': 1}</td>\n",
       "    </tr>\n",
       "    <tr>\n",
       "      <th>3</th>\n",
       "      <td>A caminho dá igreja, fecha o final de ano na p...</td>\n",
       "      <td>r2_ig</td>\n",
       "      <td>1</td>\n",
       "      <td>no</td>\n",
       "      <td>r2_ig_1965</td>\n",
       "      <td>_815352911769247745</td>\n",
       "      <td>1454</td>\n",
       "      <td>[('a', 'PREP'), ('caminho', 'N'), ('dá', 'V'),...</td>\n",
       "      <td>[]</td>\n",
       "      <td>{'igreja': 1, 'caminho': 1, 'senhor': 1, 'ano'...</td>\n",
       "    </tr>\n",
       "    <tr>\n",
       "      <th>4</th>\n",
       "      <td>A Igreja virou palanque e agora tá escancarado...</td>\n",
       "      <td>r2_ig</td>\n",
       "      <td>0</td>\n",
       "      <td>no</td>\n",
       "      <td>r2_ig_35</td>\n",
       "      <td>_1183336439376949248</td>\n",
       "      <td>3606</td>\n",
       "      <td>[('a', 'ART'), ('igreja', 'N'), ('virou', 'V')...</td>\n",
       "      <td>[]</td>\n",
       "      <td>{'igreja': 1, 'respeito': 1, 'falta': 1, 'pala...</td>\n",
       "    </tr>\n",
       "    <tr>\n",
       "      <th>...</th>\n",
       "      <td>...</td>\n",
       "      <td>...</td>\n",
       "      <td>...</td>\n",
       "      <td>...</td>\n",
       "      <td>...</td>\n",
       "      <td>...</td>\n",
       "      <td>...</td>\n",
       "      <td>...</td>\n",
       "      <td>...</td>\n",
       "      <td>...</td>\n",
       "    </tr>\n",
       "    <tr>\n",
       "      <th>5347</th>\n",
       "      <td>Vou na igreja festejar meu protetor e agradece...</td>\n",
       "      <td>r2_ig</td>\n",
       "      <td>1</td>\n",
       "      <td>no</td>\n",
       "      <td>r2_ig_92</td>\n",
       "      <td>_1253416246508306432</td>\n",
       "      <td>1574</td>\n",
       "      <td>[('vou', 'V'), ('na', 'PREP+ART'), ('igreja', ...</td>\n",
       "      <td>[]</td>\n",
       "      <td>{'batalhas': 1, 'igreja': 1, 'vencedor': 1, 's...</td>\n",
       "    </tr>\n",
       "    <tr>\n",
       "      <th>5348</th>\n",
       "      <td>A Receita Federal descobriu que as igrejas est...</td>\n",
       "      <td>r2_ig</td>\n",
       "      <td>0</td>\n",
       "      <td>no</td>\n",
       "      <td>r2_ig_1949</td>\n",
       "      <td>_1255804576944570369</td>\n",
       "      <td>4264</td>\n",
       "      <td>[('``', 'N'), ('a', 'ART'), ('receita', 'N'), ...</td>\n",
       "      <td>[]</td>\n",
       "      <td>{'remuneração': 2, 'pastor': 1, 'lucros': 1, '...</td>\n",
       "    </tr>\n",
       "    <tr>\n",
       "      <th>5349</th>\n",
       "      <td>Com a morte de Mary I, subiu ao trono a filha ...</td>\n",
       "      <td>r2_ig</td>\n",
       "      <td>0</td>\n",
       "      <td>no</td>\n",
       "      <td>r2_ig_618</td>\n",
       "      <td>_1275062697265188864</td>\n",
       "      <td>4665</td>\n",
       "      <td>[('com', 'PREP'), ('a', 'ART'), ('morte', 'N')...</td>\n",
       "      <td>[]</td>\n",
       "      <td>{'mary': 2, 'i': 2, 'esposa': 1, 'país': 1, 'i...</td>\n",
       "    </tr>\n",
       "    <tr>\n",
       "      <th>5350</th>\n",
       "      <td>Por isso que eu como católico \"praticante\" (no...</td>\n",
       "      <td>r2_ig</td>\n",
       "      <td>1</td>\n",
       "      <td>no</td>\n",
       "      <td>r2_ig_35</td>\n",
       "      <td>_1042114756046401536</td>\n",
       "      <td>1723</td>\n",
       "      <td>[('por', 'PREP'), ('isso', 'PROSUB'), ('que', ...</td>\n",
       "      <td>[]</td>\n",
       "      <td>{'igreja': 1, 'tipo': 1, 'feriado': 1, 'nomenc...</td>\n",
       "    </tr>\n",
       "    <tr>\n",
       "      <th>5351</th>\n",
       "      <td>Esse verme está usando violência doméstica com...</td>\n",
       "      <td>r2_ig</td>\n",
       "      <td>0</td>\n",
       "      <td>no</td>\n",
       "      <td>r2_ig_958</td>\n",
       "      <td>_1247895012383195140</td>\n",
       "      <td>2503</td>\n",
       "      <td>[('esse', 'PROADJ'), ('verme', 'N'), ('está', ...</td>\n",
       "      <td>[]</td>\n",
       "      <td>{'violência': 1, 'igreja': 1, 'verme': 1}</td>\n",
       "    </tr>\n",
       "  </tbody>\n",
       "</table>\n",
       "<p>5352 rows × 10 columns</p>\n",
       "</div>"
      ],
      "text/plain": [
       "                                                   Text Target  Polarity  \\\n",
       "0     É tão bom ir na igreja e sentir a presença de ...  r2_ig         1   \n",
       "1     Mano eu admiro muito pessoas que entram pra ig...  r2_ig         1   \n",
       "2                      Fuma não amigo, vamos pra igreja  r2_ig         1   \n",
       "3     A caminho dá igreja, fecha o final de ano na p...  r2_ig         1   \n",
       "4     A Igreja virou palanque e agora tá escancarado...  r2_ig         0   \n",
       "...                                                 ...    ...       ...   \n",
       "5347  Vou na igreja festejar meu protetor e agradece...  r2_ig         1   \n",
       "5348  A Receita Federal descobriu que as igrejas est...  r2_ig         0   \n",
       "5349  Com a morte de Mary I, subiu ao trono a filha ...  r2_ig         0   \n",
       "5350  Por isso que eu como católico \"praticante\" (no...  r2_ig         1   \n",
       "5351  Esse verme está usando violência doméstica com...  r2_ig         0   \n",
       "\n",
       "     Factual     User_ID              Tweet_ID  Tweet_Seq  \\\n",
       "0         no   r2_ig_925  _1156010166719959040       3075   \n",
       "1         no    r2_ig_73  _1220808284304789504       2659   \n",
       "2         no   r2_ig_901  _1185186519490932741       2239   \n",
       "3         no  r2_ig_1965   _815352911769247745       1454   \n",
       "4         no    r2_ig_35  _1183336439376949248       3606   \n",
       "...      ...         ...                   ...        ...   \n",
       "5347      no    r2_ig_92  _1253416246508306432       1574   \n",
       "5348      no  r2_ig_1949  _1255804576944570369       4264   \n",
       "5349      no   r2_ig_618  _1275062697265188864       4665   \n",
       "5350      no    r2_ig_35  _1042114756046401536       1723   \n",
       "5351      no   r2_ig_958  _1247895012383195140       2503   \n",
       "\n",
       "                                                    POS Mentions  \\\n",
       "0     [('é', 'V'), ('tão', 'ADV'), ('bom', 'ADJ'), (...       []   \n",
       "1     [('mano', 'N'), ('eu', 'PROPESS'), ('admiro', ...       []   \n",
       "2     [('fuma', 'V'), ('não', 'ADV'), ('amigo', 'N')...       []   \n",
       "3     [('a', 'PREP'), ('caminho', 'N'), ('dá', 'V'),...       []   \n",
       "4     [('a', 'ART'), ('igreja', 'N'), ('virou', 'V')...       []   \n",
       "...                                                 ...      ...   \n",
       "5347  [('vou', 'V'), ('na', 'PREP+ART'), ('igreja', ...       []   \n",
       "5348  [('``', 'N'), ('a', 'ART'), ('receita', 'N'), ...       []   \n",
       "5349  [('com', 'PREP'), ('a', 'ART'), ('morte', 'N')...       []   \n",
       "5350  [('por', 'PREP'), ('isso', 'PROSUB'), ('que', ...       []   \n",
       "5351  [('esse', 'PROADJ'), ('verme', 'N'), ('está', ...       []   \n",
       "\n",
       "                                                  Nouns  \n",
       "0     {'deus': 1, 'presença': 1, 'igreja': 1, 'culto...  \n",
       "1     {'igreja': 3, 'mundo': 2, 'pessoas': 1, 'palav...  \n",
       "2                             {'amigo': 1, 'igreja': 1}  \n",
       "3     {'igreja': 1, 'caminho': 1, 'senhor': 1, 'ano'...  \n",
       "4     {'igreja': 1, 'respeito': 1, 'falta': 1, 'pala...  \n",
       "...                                                 ...  \n",
       "5347  {'batalhas': 1, 'igreja': 1, 'vencedor': 1, 's...  \n",
       "5348  {'remuneração': 2, 'pastor': 1, 'lucros': 1, '...  \n",
       "5349  {'mary': 2, 'i': 2, 'esposa': 1, 'país': 1, 'i...  \n",
       "5350  {'igreja': 1, 'tipo': 1, 'feriado': 1, 'nomenc...  \n",
       "5351          {'violência': 1, 'igreja': 1, 'verme': 1}  \n",
       "\n",
       "[5352 rows x 10 columns]"
      ]
     },
     "execution_count": 65,
     "metadata": {},
     "output_type": "execute_result"
    }
   ],
   "source": [
    "df_train = pd.read_csv(r'..\\...\\treino\\r2_ig_train_statements.csv', sep=';')\n",
    "df_train = df_train.drop(df_train[df_train.Polarity =='other'].index)\n",
    "df_train.Polarity.replace(('for', 'against'), (1,0), inplace=True)\n",
    "df_train = df_train.sample(frac=1).reset_index(drop=True)\n",
    "df_train"
   ]
  },
  {
   "cell_type": "code",
   "execution_count": 66,
   "metadata": {},
   "outputs": [
    {
     "data": {
      "text/html": [
       "<div>\n",
       "<style scoped>\n",
       "    .dataframe tbody tr th:only-of-type {\n",
       "        vertical-align: middle;\n",
       "    }\n",
       "\n",
       "    .dataframe tbody tr th {\n",
       "        vertical-align: top;\n",
       "    }\n",
       "\n",
       "    .dataframe thead th {\n",
       "        text-align: right;\n",
       "    }\n",
       "</style>\n",
       "<table border=\"1\" class=\"dataframe\">\n",
       "  <thead>\n",
       "    <tr style=\"text-align: right;\">\n",
       "      <th></th>\n",
       "      <th>Text</th>\n",
       "      <th>Target</th>\n",
       "      <th>Polarity</th>\n",
       "      <th>Factual</th>\n",
       "      <th>User_ID</th>\n",
       "      <th>Tweet_ID</th>\n",
       "      <th>Tweet_Seq</th>\n",
       "      <th>POS</th>\n",
       "      <th>Mentions</th>\n",
       "      <th>Nouns</th>\n",
       "    </tr>\n",
       "  </thead>\n",
       "  <tbody>\n",
       "    <tr>\n",
       "      <th>0</th>\n",
       "      <td>Eu sou cristão, apoio o presidente, mas não a ...</td>\n",
       "      <td>r2_ig</td>\n",
       "      <td>0</td>\n",
       "      <td>no</td>\n",
       "      <td>r2_ig_1830</td>\n",
       "      <td>_1242458658644144131</td>\n",
       "      <td>2728</td>\n",
       "      <td>[('eu', 'PROPESS'), ('sou', 'V'), ('cristão', ...</td>\n",
       "      <td>[]</td>\n",
       "      <td>{'fome': 1, 'privatizações': 1, 'apoio': 1, 'i...</td>\n",
       "    </tr>\n",
       "    <tr>\n",
       "      <th>1</th>\n",
       "      <td>Lá na igreja hj a Yasmin me chamou pra ir lá n...</td>\n",
       "      <td>r2_ig</td>\n",
       "      <td>1</td>\n",
       "      <td>no</td>\n",
       "      <td>r2_ig_972</td>\n",
       "      <td>_1042228960535437313</td>\n",
       "      <td>1557</td>\n",
       "      <td>[('lá', 'ADV'), ('na', 'PREP+ART'), ('igreja',...</td>\n",
       "      <td>[]</td>\n",
       "      <td>{'pastor': 1, 'igreja': 1, 'hj': 1, 'yasmin': ...</td>\n",
       "    </tr>\n",
       "    <tr>\n",
       "      <th>2</th>\n",
       "      <td>Amo ir na igreja da pastora Rosicleia ❤❤❤</td>\n",
       "      <td>r2_ig</td>\n",
       "      <td>1</td>\n",
       "      <td>no</td>\n",
       "      <td>r2_ig_391</td>\n",
       "      <td>_954181989342564352</td>\n",
       "      <td>1708</td>\n",
       "      <td>[('amo', 'V'), ('ir', 'V'), ('na', 'PREP+ART')...</td>\n",
       "      <td>[]</td>\n",
       "      <td>{'igreja': 1, 'pastora': 1}</td>\n",
       "    </tr>\n",
       "    <tr>\n",
       "      <th>3</th>\n",
       "      <td>Jesus como eu amo essa igreja ❤️</td>\n",
       "      <td>r2_ig</td>\n",
       "      <td>1</td>\n",
       "      <td>no</td>\n",
       "      <td>r2_ig_384</td>\n",
       "      <td>_1131413214070214656</td>\n",
       "      <td>4285</td>\n",
       "      <td>[('jesus', 'N'), ('como', 'PREP'), ('eu', 'PRO...</td>\n",
       "      <td>[]</td>\n",
       "      <td>{'igreja': 1, 'jesus': 1}</td>\n",
       "    </tr>\n",
       "    <tr>\n",
       "      <th>4</th>\n",
       "      <td>Nós não podemos fazer nada quanto às pessoas q...</td>\n",
       "      <td>r2_ig</td>\n",
       "      <td>1</td>\n",
       "      <td>no</td>\n",
       "      <td>r2_ig_565</td>\n",
       "      <td>_1228102065358098432</td>\n",
       "      <td>1360</td>\n",
       "      <td>[('nós', 'PROPESS'), ('não', 'ADV'), ('podemos...</td>\n",
       "      <td>[]</td>\n",
       "      <td>{'pessoas': 1, 'inferno': 1, 'igreja': 1, 'mis...</td>\n",
       "    </tr>\n",
       "    <tr>\n",
       "      <th>...</th>\n",
       "      <td>...</td>\n",
       "      <td>...</td>\n",
       "      <td>...</td>\n",
       "      <td>...</td>\n",
       "      <td>...</td>\n",
       "      <td>...</td>\n",
       "      <td>...</td>\n",
       "      <td>...</td>\n",
       "      <td>...</td>\n",
       "      <td>...</td>\n",
       "    </tr>\n",
       "    <tr>\n",
       "      <th>1780</th>\n",
       "      <td>qual o lugar onde tem mais pessoas cadastradas...</td>\n",
       "      <td>r2_ig</td>\n",
       "      <td>0</td>\n",
       "      <td>no</td>\n",
       "      <td>r2_ig_2098</td>\n",
       "      <td>_730440389254090752</td>\n",
       "      <td>702</td>\n",
       "      <td>[('qual', 'PRO-KS'), ('o', 'ART'), ('lugar', '...</td>\n",
       "      <td>[]</td>\n",
       "      <td>{'pessoas': 1, 'inferno': 1, 'igreja': 1, 'hós...</td>\n",
       "    </tr>\n",
       "    <tr>\n",
       "      <th>1781</th>\n",
       "      <td>Equívoco. Toda Igreja é parcial. E o Estado é ...</td>\n",
       "      <td>r2_ig</td>\n",
       "      <td>0</td>\n",
       "      <td>no</td>\n",
       "      <td>r2_ig_1939</td>\n",
       "      <td>_1070860896476504064</td>\n",
       "      <td>1301</td>\n",
       "      <td>[('equívoco', 'N'), ('.', 'PU'), ('toda', 'PRO...</td>\n",
       "      <td>[]</td>\n",
       "      <td>{'igreja': 2, 'católicos': 1, 'religiões': 1, ...</td>\n",
       "    </tr>\n",
       "    <tr>\n",
       "      <th>1782</th>\n",
       "      <td>UE? Religião não é amor? Respeito tolerância? ...</td>\n",
       "      <td>r2_ig</td>\n",
       "      <td>0</td>\n",
       "      <td>no</td>\n",
       "      <td>r2_ig_1499</td>\n",
       "      <td>_1183027690632290304</td>\n",
       "      <td>46</td>\n",
       "      <td>[('ue', 'N'), ('?', 'PU'), ('religião', 'N'), ...</td>\n",
       "      <td>[]</td>\n",
       "      <td>{'dia': 2, 'tolerância': 1, 'cristão': 1, 'igr...</td>\n",
       "    </tr>\n",
       "    <tr>\n",
       "      <th>1783</th>\n",
       "      <td>Bolsonaro abre igrejas por decreto. Alguns Pas...</td>\n",
       "      <td>r2_ig</td>\n",
       "      <td>0</td>\n",
       "      <td>yes</td>\n",
       "      <td>r2_ig_489</td>\n",
       "      <td>_1243148034680205315</td>\n",
       "      <td>4761</td>\n",
       "      <td>[('bolsonaro', 'N'), ('abre', 'V'), ('igrejas'...</td>\n",
       "      <td>[]</td>\n",
       "      <td>{'coronavírus': 1, 'bolsonaro': 1, 'cultos': 1...</td>\n",
       "    </tr>\n",
       "    <tr>\n",
       "      <th>1784</th>\n",
       "      <td>A Andressa veio sentar do meu lado pra me abra...</td>\n",
       "      <td>r2_ig</td>\n",
       "      <td>1</td>\n",
       "      <td>no</td>\n",
       "      <td>r2_ig_1688</td>\n",
       "      <td>_985327933265973248</td>\n",
       "      <td>2499</td>\n",
       "      <td>[('a', 'ART'), ('andressa', 'N'), ('veio', 'V'...</td>\n",
       "      <td>[]</td>\n",
       "      <td>{'igreja': 1, 'amizade': 1, 'andressa': 1, 'la...</td>\n",
       "    </tr>\n",
       "  </tbody>\n",
       "</table>\n",
       "<p>1785 rows × 10 columns</p>\n",
       "</div>"
      ],
      "text/plain": [
       "                                                   Text Target  Polarity  \\\n",
       "0     Eu sou cristão, apoio o presidente, mas não a ...  r2_ig         0   \n",
       "1     Lá na igreja hj a Yasmin me chamou pra ir lá n...  r2_ig         1   \n",
       "2             Amo ir na igreja da pastora Rosicleia ❤❤❤  r2_ig         1   \n",
       "3                      Jesus como eu amo essa igreja ❤️  r2_ig         1   \n",
       "4     Nós não podemos fazer nada quanto às pessoas q...  r2_ig         1   \n",
       "...                                                 ...    ...       ...   \n",
       "1780  qual o lugar onde tem mais pessoas cadastradas...  r2_ig         0   \n",
       "1781  Equívoco. Toda Igreja é parcial. E o Estado é ...  r2_ig         0   \n",
       "1782  UE? Religião não é amor? Respeito tolerância? ...  r2_ig         0   \n",
       "1783  Bolsonaro abre igrejas por decreto. Alguns Pas...  r2_ig         0   \n",
       "1784  A Andressa veio sentar do meu lado pra me abra...  r2_ig         1   \n",
       "\n",
       "     Factual     User_ID              Tweet_ID  Tweet_Seq  \\\n",
       "0         no  r2_ig_1830  _1242458658644144131       2728   \n",
       "1         no   r2_ig_972  _1042228960535437313       1557   \n",
       "2         no   r2_ig_391   _954181989342564352       1708   \n",
       "3         no   r2_ig_384  _1131413214070214656       4285   \n",
       "4         no   r2_ig_565  _1228102065358098432       1360   \n",
       "...      ...         ...                   ...        ...   \n",
       "1780      no  r2_ig_2098   _730440389254090752        702   \n",
       "1781      no  r2_ig_1939  _1070860896476504064       1301   \n",
       "1782      no  r2_ig_1499  _1183027690632290304         46   \n",
       "1783     yes   r2_ig_489  _1243148034680205315       4761   \n",
       "1784      no  r2_ig_1688   _985327933265973248       2499   \n",
       "\n",
       "                                                    POS Mentions  \\\n",
       "0     [('eu', 'PROPESS'), ('sou', 'V'), ('cristão', ...       []   \n",
       "1     [('lá', 'ADV'), ('na', 'PREP+ART'), ('igreja',...       []   \n",
       "2     [('amo', 'V'), ('ir', 'V'), ('na', 'PREP+ART')...       []   \n",
       "3     [('jesus', 'N'), ('como', 'PREP'), ('eu', 'PRO...       []   \n",
       "4     [('nós', 'PROPESS'), ('não', 'ADV'), ('podemos...       []   \n",
       "...                                                 ...      ...   \n",
       "1780  [('qual', 'PRO-KS'), ('o', 'ART'), ('lugar', '...       []   \n",
       "1781  [('equívoco', 'N'), ('.', 'PU'), ('toda', 'PRO...       []   \n",
       "1782  [('ue', 'N'), ('?', 'PU'), ('religião', 'N'), ...       []   \n",
       "1783  [('bolsonaro', 'N'), ('abre', 'V'), ('igrejas'...       []   \n",
       "1784  [('a', 'ART'), ('andressa', 'N'), ('veio', 'V'...       []   \n",
       "\n",
       "                                                  Nouns  \n",
       "0     {'fome': 1, 'privatizações': 1, 'apoio': 1, 'i...  \n",
       "1     {'pastor': 1, 'igreja': 1, 'hj': 1, 'yasmin': ...  \n",
       "2                           {'igreja': 1, 'pastora': 1}  \n",
       "3                             {'igreja': 1, 'jesus': 1}  \n",
       "4     {'pessoas': 1, 'inferno': 1, 'igreja': 1, 'mis...  \n",
       "...                                                 ...  \n",
       "1780  {'pessoas': 1, 'inferno': 1, 'igreja': 1, 'hós...  \n",
       "1781  {'igreja': 2, 'católicos': 1, 'religiões': 1, ...  \n",
       "1782  {'dia': 2, 'tolerância': 1, 'cristão': 1, 'igr...  \n",
       "1783  {'coronavírus': 1, 'bolsonaro': 1, 'cultos': 1...  \n",
       "1784  {'igreja': 1, 'amizade': 1, 'andressa': 1, 'la...  \n",
       "\n",
       "[1785 rows x 10 columns]"
      ]
     },
     "execution_count": 66,
     "metadata": {},
     "output_type": "execute_result"
    }
   ],
   "source": [
    "df_test = pd.read_csv(r'..\\...\\Teste\\r2_ig_test_statements.csv', sep=';')\n",
    "df_test = df_test.drop(df_test[df_test.Polarity =='other'].index)\n",
    "df_test.Polarity.replace(('for', 'against'), (1,0), inplace=True)\n",
    "df_test = df_test.sample(frac=1).reset_index(drop=True)\n",
    "df_test"
   ]
  },
  {
   "cell_type": "code",
   "execution_count": 67,
   "metadata": {},
   "outputs": [
    {
     "data": {
      "text/html": [
       "<div>\n",
       "<style scoped>\n",
       "    .dataframe tbody tr th:only-of-type {\n",
       "        vertical-align: middle;\n",
       "    }\n",
       "\n",
       "    .dataframe tbody tr th {\n",
       "        vertical-align: top;\n",
       "    }\n",
       "\n",
       "    .dataframe thead th {\n",
       "        text-align: right;\n",
       "    }\n",
       "</style>\n",
       "<table border=\"1\" class=\"dataframe\">\n",
       "  <thead>\n",
       "    <tr style=\"text-align: right;\">\n",
       "      <th></th>\n",
       "      <th>Unnamed: 0</th>\n",
       "      <th>Text</th>\n",
       "    </tr>\n",
       "  </thead>\n",
       "  <tbody>\n",
       "    <tr>\n",
       "      <th>0</th>\n",
       "      <td>0</td>\n",
       "      <td>Quem diz que é normal nunca nem entrou em uma ...</td>\n",
       "    </tr>\n",
       "    <tr>\n",
       "      <th>1</th>\n",
       "      <td>1</td>\n",
       "      <td>evangélicos\" até saírem da igreja e virarem a ...</td>\n",
       "    </tr>\n",
       "    <tr>\n",
       "      <th>2</th>\n",
       "      <td>2</td>\n",
       "      <td>Kkkkkkkkkkkk essa daí e profissional , e da ig...</td>\n",
       "    </tr>\n",
       "    <tr>\n",
       "      <th>3</th>\n",
       "      <td>3</td>\n",
       "      <td>Minha mãe chegou da igreja agora é disse que f...</td>\n",
       "    </tr>\n",
       "    <tr>\n",
       "      <th>4</th>\n",
       "      <td>4</td>\n",
       "      <td>Ahahahahaha mds labaxurias é um linguajar estr...</td>\n",
       "    </tr>\n",
       "    <tr>\n",
       "      <th>...</th>\n",
       "      <td>...</td>\n",
       "      <td>...</td>\n",
       "    </tr>\n",
       "    <tr>\n",
       "      <th>34585</th>\n",
       "      <td>34585</td>\n",
       "      <td>Sou mt princesa do senhor com fotinha no face ...</td>\n",
       "    </tr>\n",
       "    <tr>\n",
       "      <th>34586</th>\n",
       "      <td>34586</td>\n",
       "      <td>Quando eu tinha que fzr as coisas na igreja</td>\n",
       "    </tr>\n",
       "    <tr>\n",
       "      <th>34587</th>\n",
       "      <td>34587</td>\n",
       "      <td>Vamos sair\" \"Vamos, mas primeiro vou pra igreja</td>\n",
       "    </tr>\n",
       "    <tr>\n",
       "      <th>34588</th>\n",
       "      <td>34588</td>\n",
       "      <td>Wi-Fi daqui da igreja ta melhor que o la de casa</td>\n",
       "    </tr>\n",
       "    <tr>\n",
       "      <th>34589</th>\n",
       "      <td>34589</td>\n",
       "      <td>Mandei msgn para Yasmin e ela ta na igreja com...</td>\n",
       "    </tr>\n",
       "  </tbody>\n",
       "</table>\n",
       "<p>34590 rows × 2 columns</p>\n",
       "</div>"
      ],
      "text/plain": [
       "       Unnamed: 0                                               Text\n",
       "0               0  Quem diz que é normal nunca nem entrou em uma ...\n",
       "1               1  evangélicos\" até saírem da igreja e virarem a ...\n",
       "2               2  Kkkkkkkkkkkk essa daí e profissional , e da ig...\n",
       "3               3  Minha mãe chegou da igreja agora é disse que f...\n",
       "4               4  Ahahahahaha mds labaxurias é um linguajar estr...\n",
       "...           ...                                                ...\n",
       "34585       34585  Sou mt princesa do senhor com fotinha no face ...\n",
       "34586       34586        Quando eu tinha que fzr as coisas na igreja\n",
       "34587       34587    Vamos sair\" \"Vamos, mas primeiro vou pra igreja\n",
       "34588       34588   Wi-Fi daqui da igreja ta melhor que o la de casa\n",
       "34589       34589  Mandei msgn para Yasmin e ela ta na igreja com...\n",
       "\n",
       "[34590 rows x 2 columns]"
      ]
     },
     "execution_count": 67,
     "metadata": {},
     "output_type": "execute_result"
    }
   ],
   "source": [
    "#carregando unlabeled data\n",
    "df_u = pd.read_csv(r'..\\...\\Unlabeled/igreja.csv')\n",
    "df_u"
   ]
  },
  {
   "cell_type": "code",
   "execution_count": 68,
   "metadata": {},
   "outputs": [],
   "source": [
    "rows_train = len(df_train.index)\n",
    "rows_test = len(df_test.index)\n",
    "rows_label=rows_train+rows_test"
   ]
  },
  {
   "cell_type": "code",
   "execution_count": 69,
   "metadata": {},
   "outputs": [
    {
     "data": {
      "text/plain": [
       "34590"
      ]
     },
     "execution_count": 69,
     "metadata": {},
     "output_type": "execute_result"
    }
   ],
   "source": [
    "rows_unlabel = len(df_u.index)\n",
    "rows_unlabel"
   ]
  },
  {
   "cell_type": "code",
   "execution_count": 70,
   "metadata": {},
   "outputs": [
    {
     "data": {
      "text/plain": [
       "0        É tão bom ir na igreja e sentir a presença de ...\n",
       "1        Mano eu admiro muito pessoas que entram pra ig...\n",
       "2                         Fuma não amigo, vamos pra igreja\n",
       "3        A caminho dá igreja, fecha o final de ano na p...\n",
       "4        A Igreja virou palanque e agora tá escancarado...\n",
       "                               ...                        \n",
       "34585    Sou mt princesa do senhor com fotinha no face ...\n",
       "34586          Quando eu tinha que fzr as coisas na igreja\n",
       "34587      Vamos sair\" \"Vamos, mas primeiro vou pra igreja\n",
       "34588     Wi-Fi daqui da igreja ta melhor que o la de casa\n",
       "34589    Mandei msgn para Yasmin e ela ta na igreja com...\n",
       "Name: Text, Length: 41727, dtype: object"
      ]
     },
     "execution_count": 70,
     "metadata": {},
     "output_type": "execute_result"
    }
   ],
   "source": [
    "frames = [df_train.Text, df_test.Text, df_u.Text]\n",
    "X = pd.concat(frames)\n",
    "X"
   ]
  },
  {
   "cell_type": "code",
   "execution_count": 71,
   "metadata": {},
   "outputs": [],
   "source": [
    "#vetoriza conjunto completo\n",
    "from sklearn.feature_extraction.text import TfidfTransformer\n"
   ]
  },
  {
   "cell_type": "code",
   "execution_count": 72,
   "metadata": {},
   "outputs": [
    {
     "data": {
      "text/plain": [
       "(41727, 24078)"
      ]
     },
     "execution_count": 72,
     "metadata": {},
     "output_type": "execute_result"
    }
   ],
   "source": [
    "from sklearn.feature_extraction.text import TfidfTransformer\n",
    "vect = TfidfVectorizer(ngram_range=(2, 3),analyzer='char_wb').fit(X)\n",
    "\n",
    "\n",
    "X_tf = vect.transform(X)\n",
    "X_tf.shape\n",
    "X_ori = X_tf\n",
    "X_ori.shape"
   ]
  },
  {
   "cell_type": "code",
   "execution_count": 73,
   "metadata": {},
   "outputs": [
    {
     "data": {
      "text/plain": [
       "(1785, 24078)"
      ]
     },
     "execution_count": 73,
     "metadata": {},
     "output_type": "execute_result"
    }
   ],
   "source": [
    "x_train = X_ori[0:rows_train,:]\n",
    "x_test = X_ori[rows_train:rows_train+rows_test,:]\n",
    "x_test.shape\n"
   ]
  },
  {
   "cell_type": "code",
   "execution_count": 74,
   "metadata": {},
   "outputs": [
    {
     "data": {
      "text/plain": [
       "(1785,)"
      ]
     },
     "execution_count": 74,
     "metadata": {},
     "output_type": "execute_result"
    }
   ],
   "source": [
    "y_train = df_train.Polarity\n",
    "y_test = df_test.Polarity\n",
    "y_test.shape"
   ]
  },
  {
   "cell_type": "code",
   "execution_count": 75,
   "metadata": {},
   "outputs": [
    {
     "data": {
      "text/plain": [
       "0.7843137254901961"
      ]
     },
     "execution_count": 75,
     "metadata": {},
     "output_type": "execute_result"
    }
   ],
   "source": [
    "#classificação\n",
    "from sklearn.linear_model import LogisticRegression\n",
    "from sklearn.metrics import f1_score\n",
    "from sklearn.metrics import accuracy_score\n",
    "from sklearn.metrics import precision_score\n",
    "from sklearn.metrics import recall_score\n",
    "model = LogisticRegression(random_state=0)\n",
    "model.fit(x_train,y_train)\n",
    "pred_values = model.predict(x_test)     \n",
    "acc = accuracy_score(pred_values , y_test)\n",
    "acc"
   ]
  },
  {
   "cell_type": "code",
   "execution_count": 76,
   "metadata": {},
   "outputs": [
    {
     "data": {
      "text/plain": [
       "0.7843093930281615"
      ]
     },
     "execution_count": 76,
     "metadata": {},
     "output_type": "execute_result"
    }
   ],
   "source": [
    "f1_score(y_test, pred_values, average='macro')"
   ]
  },
  {
   "cell_type": "code",
   "execution_count": 77,
   "metadata": {},
   "outputs": [
    {
     "data": {
      "text/plain": [
       "0.7844724958433587"
      ]
     },
     "execution_count": 77,
     "metadata": {},
     "output_type": "execute_result"
    }
   ],
   "source": [
    "precision_score(y_test, pred_values, average='macro')"
   ]
  },
  {
   "cell_type": "code",
   "execution_count": 78,
   "metadata": {},
   "outputs": [
    {
     "data": {
      "text/plain": [
       "0.784406779661017"
      ]
     },
     "execution_count": 78,
     "metadata": {},
     "output_type": "execute_result"
    }
   ],
   "source": [
    "recall_score(y_test, pred_values, average='macro')"
   ]
  },
  {
   "cell_type": "code",
   "execution_count": 79,
   "metadata": {},
   "outputs": [],
   "source": [
    "#predição dos não-rotulados\n",
    "X_label = X_ori[rows_label:rows_label+ rows_unlabel]\n",
    "pred_values_label= model.predict(X_label) \n"
   ]
  },
  {
   "cell_type": "code",
   "execution_count": 80,
   "metadata": {},
   "outputs": [],
   "source": [
    "#avalia a probabilidade de estar certo\n",
    "prob_label = model.predict_proba(X_label) \n"
   ]
  },
  {
   "cell_type": "code",
   "execution_count": 81,
   "metadata": {},
   "outputs": [
    {
     "data": {
      "text/plain": [
       "5352"
      ]
     },
     "execution_count": 81,
     "metadata": {},
     "output_type": "execute_result"
    }
   ],
   "source": [
    "#seleciona os itens que vão entrar no conjunto de treino\n",
    "threshold = 0.4\n",
    "t_size = int(threshold*rows_unlabel) #quanto vai adicionar a cada iteração\n",
    "rows_train = x_train.shape[0]\n",
    "rows_train"
   ]
  },
  {
   "cell_type": "code",
   "execution_count": 82,
   "metadata": {},
   "outputs": [],
   "source": [
    "reliable_pred_favor, reliable_pred_against  = [], []\n",
    "for x_id, (prob, pred) in enumerate(zip(prob_label, pred_values_label)):\n",
    "    #se 1, inclui no favor; senão, no against\n",
    "    #incluir id, probabilidade e valor predito (1 ou 0)\n",
    "    (reliable_pred_favor if (pred_values_label[x_id]) else reliable_pred_against).append((x_id, prob_label[x_id,pred_values_label[x_id]], pred_values_label[x_id]))\n",
    "    "
   ]
  },
  {
   "cell_type": "code",
   "execution_count": 83,
   "metadata": {},
   "outputs": [],
   "source": [
    "#coloca em ordem decrescente de confiabilidade a partir da probabilidade (coluna 2)\n",
    "reliable_pred_favor = sorted(reliable_pred_favor, key=lambda x: x[1], reverse=True)\n",
    "reliable_pred_against = sorted(reliable_pred_against, key=lambda x: x[1], reverse=True)"
   ]
  },
  {
   "cell_type": "code",
   "execution_count": 84,
   "metadata": {},
   "outputs": [
    {
     "name": "stdout",
     "output_type": "stream",
     "text": [
      "iteraction: 0.4 accuracy: 0.7675070028011205 f1_score: 0.7670847732505693\n",
      "iteraction: 0.8 accuracy: 0.7714285714285715 f1_score: 0.7703734159334894\n"
     ]
    },
    {
     "ename": "IndexError",
     "evalue": "list index out of range",
     "output_type": "error",
     "traceback": [
      "\u001b[1;31m---------------------------------------------------------------------------\u001b[0m",
      "\u001b[1;31mIndexError\u001b[0m                                Traceback (most recent call last)",
      "\u001b[1;32m~\\AppData\\Local\\Temp\\ipykernel_1868\\3949619866.py\u001b[0m in \u001b[0;36m<module>\u001b[1;34m\u001b[0m\n\u001b[0;32m     14\u001b[0m         \u001b[0mindex_labels\u001b[0m\u001b[1;33m.\u001b[0m\u001b[0mremove\u001b[0m\u001b[1;33m(\u001b[0m\u001b[0mindex\u001b[0m\u001b[1;33m+\u001b[0m\u001b[0mrows_label\u001b[0m\u001b[1;33m)\u001b[0m\u001b[1;33m\u001b[0m\u001b[1;33m\u001b[0m\u001b[0m\n\u001b[0;32m     15\u001b[0m         \u001b[1;31m#pega um contra\u001b[0m\u001b[1;33m\u001b[0m\u001b[1;33m\u001b[0m\u001b[1;33m\u001b[0m\u001b[0m\n\u001b[1;32m---> 16\u001b[1;33m         \u001b[0mindex\u001b[0m \u001b[1;33m=\u001b[0m \u001b[0mreliable_pred_against\u001b[0m\u001b[1;33m[\u001b[0m\u001b[0mposition\u001b[0m\u001b[1;33m]\u001b[0m\u001b[1;33m[\u001b[0m\u001b[1;36m0\u001b[0m\u001b[1;33m]\u001b[0m \u001b[1;31m#descobre a posição no X_label\u001b[0m\u001b[1;33m\u001b[0m\u001b[1;33m\u001b[0m\u001b[0m\n\u001b[0m\u001b[0;32m     17\u001b[0m         \u001b[0mindex_list\u001b[0m\u001b[1;33m.\u001b[0m\u001b[0mappend\u001b[0m\u001b[1;33m(\u001b[0m\u001b[0mindex\u001b[0m\u001b[1;33m+\u001b[0m\u001b[0mrows_label\u001b[0m\u001b[1;33m)\u001b[0m \u001b[1;31m#inclui na lista de indices\u001b[0m\u001b[1;33m\u001b[0m\u001b[1;33m\u001b[0m\u001b[0m\n\u001b[0;32m     18\u001b[0m         \u001b[0my\u001b[0m \u001b[1;33m=\u001b[0m \u001b[0mnp\u001b[0m\u001b[1;33m.\u001b[0m\u001b[0mappend\u001b[0m\u001b[1;33m(\u001b[0m\u001b[0my\u001b[0m\u001b[1;33m,\u001b[0m \u001b[1;36m0\u001b[0m\u001b[1;33m)\u001b[0m \u001b[1;31m#empilha o y\u001b[0m\u001b[1;33m\u001b[0m\u001b[1;33m\u001b[0m\u001b[0m\n",
      "\u001b[1;31mIndexError\u001b[0m: list index out of range"
     ]
    }
   ],
   "source": [
    "y= np.asarray(y_train)\n",
    "index_list=[x for x in range(0, rows_train)] #indices para o novo X a partir do X original\n",
    "iteractions = 0\n",
    "position = 0\n",
    "index_labels=[x for x in range(rows_label, rows_label+ rows_unlabel)]\n",
    "\n",
    "while iteractions < 0.99:\n",
    "    iteractions = iteractions + threshold\n",
    "    for i in range(int(t_size/2)):\n",
    "        #pega um a favor\n",
    "        index = reliable_pred_favor[position][0] #descobre a posição no X_label \n",
    "        index_list.append(index+rows_label) #inclui na lista de indices\n",
    "        y = np.append(y, 1) #empilha o y\n",
    "        index_labels.remove(index+rows_label)\n",
    "        #pega um contra\n",
    "        index = reliable_pred_against[position][0] #descobre a posição no X_label \n",
    "        index_list.append(index+rows_label) #inclui na lista de indices\n",
    "        y = np.append(y, 0) #empilha o y\n",
    "        index_labels.remove(index+rows_label)\n",
    "        #anda uma posição nos dois \n",
    "        position+=1\n",
    "\n",
    "    X_train_novo = X_ori[index_list,:]#atualiza o X rotulado com os índices que estão em index_list\n",
    "    X_label = X_ori[index_labels,:] #pega só os índices que sobraram\n",
    "    rows_unlabel = X_label.get_shape()[0] #novo número de linhas sem rótulo\n",
    "    rows_label = X_train_novo.get_shape()[0] + rows_test #linhas com rótulo novas + as de teste que estão guardadas\n",
    "    X_ori = sparse.vstack([X_train_novo, x_test, X_label]) #empilha treino, teste e unlabelled\n",
    "    index_labels=[x for x in range(rows_label, rows_label+ rows_unlabel)] #atualiza os unlabelled\n",
    "    position = 0\n",
    "\n",
    "    model_novo = LogisticRegression(random_state=0)\n",
    "    model_novo.fit(X_train_novo,y)\n",
    "    #testa nos conjuntos originais\n",
    "    pred_values_novo = model_novo.predict(x_test)     \n",
    "    acc = accuracy_score(pred_values_novo , y_test)\n",
    "    f1 = f1_score(y_test, pred_values_novo, average='macro')\n",
    "    print(\"iteraction:\",iteractions, \"accuracy:\", acc, \"f1_score:\", f1)\n",
    "    \n",
    "    pred_values_label= model_novo.predict(X_label) \n",
    "    prob_label = model.predict_proba(X_label) \n",
    "    reliable_pred_favor, reliable_pred_against  = [], []\n",
    "    for x_id, (prob, pred) in enumerate(zip(prob_label, pred_values_label)):\n",
    "        (reliable_pred_favor if (pred_values_label[x_id]) else reliable_pred_against).append((x_id, prob_label[x_id,pred_values_label[x_id]], pred_values_label[x_id]))\n",
    "    \n",
    "    reliable_pred_favor = sorted(reliable_pred_favor, key=lambda x: x[1], reverse=True)\n",
    "    reliable_pred_against = sorted(reliable_pred_against, key=lambda x: x[1], reverse=True)    \n",
    "    \n",
    "    index_labels=[x for x in range(rows_label, rows_label+ rows_unlabel)]"
   ]
  },
  {
   "cell_type": "code",
   "execution_count": null,
   "metadata": {},
   "outputs": [],
   "source": []
  },
  {
   "cell_type": "code",
   "execution_count": null,
   "metadata": {},
   "outputs": [],
   "source": []
  },
  {
   "cell_type": "code",
   "execution_count": null,
   "metadata": {},
   "outputs": [],
   "source": []
  }
 ],
 "metadata": {
  "kernelspec": {
   "display_name": "Python 3 (ipykernel)",
   "language": "python",
   "name": "python3"
  },
  "language_info": {
   "codemirror_mode": {
    "name": "ipython",
    "version": 3
   },
   "file_extension": ".py",
   "mimetype": "text/x-python",
   "name": "python",
   "nbconvert_exporter": "python",
   "pygments_lexer": "ipython3",
   "version": "3.8.3"
  }
 },
 "nbformat": 4,
 "nbformat_minor": 4
}
