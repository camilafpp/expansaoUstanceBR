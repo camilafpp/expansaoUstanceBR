{
 "cells": [
  {
   "cell_type": "code",
   "execution_count": 85,
   "metadata": {},
   "outputs": [],
   "source": [
    "import pandas as pd\n",
    "from sklearn.feature_extraction.text import TfidfVectorizer\n",
    "from sklearn.feature_extraction.text import CountVectorizer\n",
    "import numpy as np\n",
    "from scipy import sparse"
   ]
  },
  {
   "cell_type": "code",
   "execution_count": 86,
   "metadata": {},
   "outputs": [
    {
     "data": {
      "text/html": [
       "<div>\n",
       "<style scoped>\n",
       "    .dataframe tbody tr th:only-of-type {\n",
       "        vertical-align: middle;\n",
       "    }\n",
       "\n",
       "    .dataframe tbody tr th {\n",
       "        vertical-align: top;\n",
       "    }\n",
       "\n",
       "    .dataframe thead th {\n",
       "        text-align: right;\n",
       "    }\n",
       "</style>\n",
       "<table border=\"1\" class=\"dataframe\">\n",
       "  <thead>\n",
       "    <tr style=\"text-align: right;\">\n",
       "      <th></th>\n",
       "      <th>Text</th>\n",
       "      <th>Target</th>\n",
       "      <th>Polarity</th>\n",
       "      <th>Factual</th>\n",
       "      <th>User_ID</th>\n",
       "      <th>Tweet_ID</th>\n",
       "      <th>Tweet_Seq</th>\n",
       "      <th>POS</th>\n",
       "      <th>Mentions</th>\n",
       "      <th>Nouns</th>\n",
       "    </tr>\n",
       "  </thead>\n",
       "  <tbody>\n",
       "    <tr>\n",
       "      <th>0</th>\n",
       "      <td>Quero saber é da lei pros mandantes dos jogos ...</td>\n",
       "      <td>r2_gl</td>\n",
       "      <td>0</td>\n",
       "      <td>no</td>\n",
       "      <td>r2_gl_1077</td>\n",
       "      <td>_1273217811075211266</td>\n",
       "      <td>4565</td>\n",
       "      <td>[('quero', 'V'), ('saber', 'V'), ('é', 'V'), (...</td>\n",
       "      <td>[]</td>\n",
       "      <td>{'mandantes': 1, 'clubes': 1, 'lei': 1, 'monop...</td>\n",
       "    </tr>\n",
       "    <tr>\n",
       "      <th>1</th>\n",
       "      <td>Como não amar a carinha de deboche do golpista...</td>\n",
       "      <td>r2_gl</td>\n",
       "      <td>0</td>\n",
       "      <td>no</td>\n",
       "      <td>r2_gl_652</td>\n",
       "      <td>_1189687806811095041</td>\n",
       "      <td>3759</td>\n",
       "      <td>[('como', 'KS'), ('não', 'ADV'), ('amar', 'V')...</td>\n",
       "      <td>[]</td>\n",
       "      <td>{'deboche': 1, 'bolsonaro': 1, 'adooooro': 1, ...</td>\n",
       "    </tr>\n",
       "    <tr>\n",
       "      <th>2</th>\n",
       "      <td>Aquela emissora empregada da Globo, que se cha...</td>\n",
       "      <td>r2_gl</td>\n",
       "      <td>1</td>\n",
       "      <td>no</td>\n",
       "      <td>r2_gl_78</td>\n",
       "      <td>_1254973802213183489</td>\n",
       "      <td>3725</td>\n",
       "      <td>[('aquela', 'PROADJ'), ('emissora', 'N'), ('em...</td>\n",
       "      <td>[]</td>\n",
       "      <td>{'fazenda': 1, 'emissora': 1, 'edição': 1, 'gl...</td>\n",
       "    </tr>\n",
       "    <tr>\n",
       "      <th>3</th>\n",
       "      <td>RRRRREDE GLOBO APRESENTA</td>\n",
       "      <td>r2_gl</td>\n",
       "      <td>1</td>\n",
       "      <td>no</td>\n",
       "      <td>r2_gl_1258</td>\n",
       "      <td>_1257399816545591297</td>\n",
       "      <td>1951</td>\n",
       "      <td>[('rrrrrede', 'V'), ('globo', 'N'), ('apresent...</td>\n",
       "      <td>[]</td>\n",
       "      <td>{'globo': 1}</td>\n",
       "    </tr>\n",
       "    <tr>\n",
       "      <th>4</th>\n",
       "      <td>Gente a própria Globo já se pronunciou negando...</td>\n",
       "      <td>r2_gl</td>\n",
       "      <td>1</td>\n",
       "      <td>no</td>\n",
       "      <td>r2_gl_1338</td>\n",
       "      <td>_1270838107739389952</td>\n",
       "      <td>261</td>\n",
       "      <td>[('gente', 'N'), ('a', 'ART'), ('própria', 'PR...</td>\n",
       "      <td>[]</td>\n",
       "      <td>{'ataque': 1, 'motivos': 1, 'gente': 1, 'motiv...</td>\n",
       "    </tr>\n",
       "    <tr>\n",
       "      <th>...</th>\n",
       "      <td>...</td>\n",
       "      <td>...</td>\n",
       "      <td>...</td>\n",
       "      <td>...</td>\n",
       "      <td>...</td>\n",
       "      <td>...</td>\n",
       "      <td>...</td>\n",
       "      <td>...</td>\n",
       "      <td>...</td>\n",
       "      <td>...</td>\n",
       "    </tr>\n",
       "    <tr>\n",
       "      <th>4504</th>\n",
       "      <td>a globo nao escolheu a sophia pra ganhar a dan...</td>\n",
       "      <td>r2_gl</td>\n",
       "      <td>1</td>\n",
       "      <td>no</td>\n",
       "      <td>r2_gl_1185</td>\n",
       "      <td>_861335540485980163</td>\n",
       "      <td>1845</td>\n",
       "      <td>[('a', 'PREP'), ('globo', 'N'), ('nao', 'ADV')...</td>\n",
       "      <td>[]</td>\n",
       "      <td>{'sophia': 1, 'povo': 1, 'dança': 1, 'globo': 1}</td>\n",
       "    </tr>\n",
       "    <tr>\n",
       "      <th>4505</th>\n",
       "      <td>Pergunta ao MP RJ onde está a investigação que...</td>\n",
       "      <td>r2_gl</td>\n",
       "      <td>0</td>\n",
       "      <td>no</td>\n",
       "      <td>r2_gl_430</td>\n",
       "      <td>_1086975402407546885</td>\n",
       "      <td>151</td>\n",
       "      <td>[('pergunta', 'V'), ('ao', 'PREP+ART'), ('mp',...</td>\n",
       "      <td>[]</td>\n",
       "      <td>{'receita': 1, 'mp': 1, '2017': 1, 'rj': 1, 'i...</td>\n",
       "    </tr>\n",
       "    <tr>\n",
       "      <th>4506</th>\n",
       "      <td>Tiradentes morre pela luta por liberdade... Co...</td>\n",
       "      <td>r2_gl</td>\n",
       "      <td>1</td>\n",
       "      <td>no</td>\n",
       "      <td>r2_gl_648</td>\n",
       "      <td>_719719176810668032</td>\n",
       "      <td>1919</td>\n",
       "      <td>[('tiradentes', 'N'), ('morre', 'V'), ('pela',...</td>\n",
       "      <td>[]</td>\n",
       "      <td>{'liberdade': 1, 'tiradentes': 1, 'trama': 1, ...</td>\n",
       "    </tr>\n",
       "    <tr>\n",
       "      <th>4507</th>\n",
       "      <td>é algo excepcional, de verdade, enredo de nove...</td>\n",
       "      <td>r2_gl</td>\n",
       "      <td>1</td>\n",
       "      <td>no</td>\n",
       "      <td>r2_gl_1244</td>\n",
       "      <td>_1255667920413351936</td>\n",
       "      <td>4143</td>\n",
       "      <td>[('é', 'V'), ('algo', 'PROSUB'), ('excepcional...</td>\n",
       "      <td>[]</td>\n",
       "      <td>{'sucesso': 1, 'minissérie': 1, 'vontade': 1, ...</td>\n",
       "    </tr>\n",
       "    <tr>\n",
       "      <th>4508</th>\n",
       "      <td>hoje o bbb está sensacional GLOBO ME MANIPULA ...</td>\n",
       "      <td>r2_gl</td>\n",
       "      <td>1</td>\n",
       "      <td>no</td>\n",
       "      <td>r2_gl_1324</td>\n",
       "      <td>_966129474084462598</td>\n",
       "      <td>2082</td>\n",
       "      <td>[('hoje', 'ADV'), ('o', 'ART'), ('bbb', 'N'), ...</td>\n",
       "      <td>[]</td>\n",
       "      <td>{'globo': 1, 'bbb': 1}</td>\n",
       "    </tr>\n",
       "  </tbody>\n",
       "</table>\n",
       "<p>4509 rows × 10 columns</p>\n",
       "</div>"
      ],
      "text/plain": [
       "                                                   Text Target  Polarity  \\\n",
       "0     Quero saber é da lei pros mandantes dos jogos ...  r2_gl         0   \n",
       "1     Como não amar a carinha de deboche do golpista...  r2_gl         0   \n",
       "2     Aquela emissora empregada da Globo, que se cha...  r2_gl         1   \n",
       "3                              RRRRREDE GLOBO APRESENTA  r2_gl         1   \n",
       "4     Gente a própria Globo já se pronunciou negando...  r2_gl         1   \n",
       "...                                                 ...    ...       ...   \n",
       "4504  a globo nao escolheu a sophia pra ganhar a dan...  r2_gl         1   \n",
       "4505  Pergunta ao MP RJ onde está a investigação que...  r2_gl         0   \n",
       "4506  Tiradentes morre pela luta por liberdade... Co...  r2_gl         1   \n",
       "4507  é algo excepcional, de verdade, enredo de nove...  r2_gl         1   \n",
       "4508  hoje o bbb está sensacional GLOBO ME MANIPULA ...  r2_gl         1   \n",
       "\n",
       "     Factual     User_ID              Tweet_ID  Tweet_Seq  \\\n",
       "0         no  r2_gl_1077  _1273217811075211266       4565   \n",
       "1         no   r2_gl_652  _1189687806811095041       3759   \n",
       "2         no    r2_gl_78  _1254973802213183489       3725   \n",
       "3         no  r2_gl_1258  _1257399816545591297       1951   \n",
       "4         no  r2_gl_1338  _1270838107739389952        261   \n",
       "...      ...         ...                   ...        ...   \n",
       "4504      no  r2_gl_1185   _861335540485980163       1845   \n",
       "4505      no   r2_gl_430  _1086975402407546885        151   \n",
       "4506      no   r2_gl_648   _719719176810668032       1919   \n",
       "4507      no  r2_gl_1244  _1255667920413351936       4143   \n",
       "4508      no  r2_gl_1324   _966129474084462598       2082   \n",
       "\n",
       "                                                    POS Mentions  \\\n",
       "0     [('quero', 'V'), ('saber', 'V'), ('é', 'V'), (...       []   \n",
       "1     [('como', 'KS'), ('não', 'ADV'), ('amar', 'V')...       []   \n",
       "2     [('aquela', 'PROADJ'), ('emissora', 'N'), ('em...       []   \n",
       "3     [('rrrrrede', 'V'), ('globo', 'N'), ('apresent...       []   \n",
       "4     [('gente', 'N'), ('a', 'ART'), ('própria', 'PR...       []   \n",
       "...                                                 ...      ...   \n",
       "4504  [('a', 'PREP'), ('globo', 'N'), ('nao', 'ADV')...       []   \n",
       "4505  [('pergunta', 'V'), ('ao', 'PREP+ART'), ('mp',...       []   \n",
       "4506  [('tiradentes', 'N'), ('morre', 'V'), ('pela',...       []   \n",
       "4507  [('é', 'V'), ('algo', 'PROSUB'), ('excepcional...       []   \n",
       "4508  [('hoje', 'ADV'), ('o', 'ART'), ('bbb', 'N'), ...       []   \n",
       "\n",
       "                                                  Nouns  \n",
       "0     {'mandantes': 1, 'clubes': 1, 'lei': 1, 'monop...  \n",
       "1     {'deboche': 1, 'bolsonaro': 1, 'adooooro': 1, ...  \n",
       "2     {'fazenda': 1, 'emissora': 1, 'edição': 1, 'gl...  \n",
       "3                                          {'globo': 1}  \n",
       "4     {'ataque': 1, 'motivos': 1, 'gente': 1, 'motiv...  \n",
       "...                                                 ...  \n",
       "4504   {'sophia': 1, 'povo': 1, 'dança': 1, 'globo': 1}  \n",
       "4505  {'receita': 1, 'mp': 1, '2017': 1, 'rj': 1, 'i...  \n",
       "4506  {'liberdade': 1, 'tiradentes': 1, 'trama': 1, ...  \n",
       "4507  {'sucesso': 1, 'minissérie': 1, 'vontade': 1, ...  \n",
       "4508                             {'globo': 1, 'bbb': 1}  \n",
       "\n",
       "[4509 rows x 10 columns]"
      ]
     },
     "execution_count": 86,
     "metadata": {},
     "output_type": "execute_result"
    }
   ],
   "source": [
    "df_train = pd.read_csv(r'..\\...\\treino\\r2_gl_train_statements.csv', sep=';')\n",
    "df_train = df_train.drop(df_train[df_train.Polarity =='other'].index)\n",
    "df_train.Polarity.replace(('for', 'against'), (1,0), inplace=True)\n",
    "df_train = df_train.sample(frac=1).reset_index(drop=True)\n",
    "df_train"
   ]
  },
  {
   "cell_type": "code",
   "execution_count": 87,
   "metadata": {},
   "outputs": [
    {
     "data": {
      "text/html": [
       "<div>\n",
       "<style scoped>\n",
       "    .dataframe tbody tr th:only-of-type {\n",
       "        vertical-align: middle;\n",
       "    }\n",
       "\n",
       "    .dataframe tbody tr th {\n",
       "        vertical-align: top;\n",
       "    }\n",
       "\n",
       "    .dataframe thead th {\n",
       "        text-align: right;\n",
       "    }\n",
       "</style>\n",
       "<table border=\"1\" class=\"dataframe\">\n",
       "  <thead>\n",
       "    <tr style=\"text-align: right;\">\n",
       "      <th></th>\n",
       "      <th>Text</th>\n",
       "      <th>Target</th>\n",
       "      <th>Polarity</th>\n",
       "      <th>Factual</th>\n",
       "      <th>User_ID</th>\n",
       "      <th>Tweet_ID</th>\n",
       "      <th>Tweet_Seq</th>\n",
       "      <th>POS</th>\n",
       "      <th>Mentions</th>\n",
       "      <th>Nouns</th>\n",
       "    </tr>\n",
       "  </thead>\n",
       "  <tbody>\n",
       "    <tr>\n",
       "      <th>0</th>\n",
       "      <td>Olha só, extrema-direita, se vcs quiserem entr...</td>\n",
       "      <td>r2_gl</td>\n",
       "      <td>0</td>\n",
       "      <td>no</td>\n",
       "      <td>r2_gl_266</td>\n",
       "      <td>_1057399541379616768</td>\n",
       "      <td>760</td>\n",
       "      <td>[('olha', 'V'), ('só', 'PDEN'), (',', 'PU'), (...</td>\n",
       "      <td>[]</td>\n",
       "      <td>{'mentes': 1, 'lei': 1, 'falha': 1, 'guerra': ...</td>\n",
       "    </tr>\n",
       "    <tr>\n",
       "      <th>1</th>\n",
       "      <td>UFC ta começando na Globoo kkkkkkkkkkkkkkk Ago...</td>\n",
       "      <td>r2_gl</td>\n",
       "      <td>1</td>\n",
       "      <td>no</td>\n",
       "      <td>r2_gl_791</td>\n",
       "      <td>_297945541030072320</td>\n",
       "      <td>1768</td>\n",
       "      <td>[('ufc', 'N'), ('ta', 'V'), ('começando', 'V')...</td>\n",
       "      <td>[]</td>\n",
       "      <td>{'ufc': 1, 'kkkkkkkkkkkkkkk': 1, 'globoo': 1}</td>\n",
       "    </tr>\n",
       "    <tr>\n",
       "      <th>2</th>\n",
       "      <td>Faz anos que eu boicoto a globo</td>\n",
       "      <td>r2_gl</td>\n",
       "      <td>0</td>\n",
       "      <td>no</td>\n",
       "      <td>r2_gl_1138</td>\n",
       "      <td>_1063859144027979776</td>\n",
       "      <td>815</td>\n",
       "      <td>[('faz', 'V'), ('anos', 'N'), ('que', 'KS'), (...</td>\n",
       "      <td>[]</td>\n",
       "      <td>{'anos': 1, 'globo': 1}</td>\n",
       "    </tr>\n",
       "    <tr>\n",
       "      <th>3</th>\n",
       "      <td>Foi denunciado de assédio e violência por 12 m...</td>\n",
       "      <td>r2_gl</td>\n",
       "      <td>0</td>\n",
       "      <td>yes</td>\n",
       "      <td>r2_gl_93</td>\n",
       "      <td>_1320388211089309697</td>\n",
       "      <td>1527</td>\n",
       "      <td>[('@', 'NUM'), ('leviriet_', 'N'), ('foi', 'V'...</td>\n",
       "      <td>['leviriet_']</td>\n",
       "      <td>{'violência': 1, 'leviriet_': 1, 'assédio': 1,...</td>\n",
       "    </tr>\n",
       "    <tr>\n",
       "      <th>4</th>\n",
       "      <td>Vou entrar nessa também rs obrigado rede globo...</td>\n",
       "      <td>r2_gl</td>\n",
       "      <td>1</td>\n",
       "      <td>no</td>\n",
       "      <td>r2_gl_276</td>\n",
       "      <td>_972309605484236800</td>\n",
       "      <td>408</td>\n",
       "      <td>[('vou', 'V'), ('entrar', 'V'), ('nessa', 'PRE...</td>\n",
       "      <td>[]</td>\n",
       "      <td>{'rede': 1, 'rs': 1, 'globo': 1}</td>\n",
       "    </tr>\n",
       "    <tr>\n",
       "      <th>...</th>\n",
       "      <td>...</td>\n",
       "      <td>...</td>\n",
       "      <td>...</td>\n",
       "      <td>...</td>\n",
       "      <td>...</td>\n",
       "      <td>...</td>\n",
       "      <td>...</td>\n",
       "      <td>...</td>\n",
       "      <td>...</td>\n",
       "      <td>...</td>\n",
       "    </tr>\n",
       "    <tr>\n",
       "      <th>1499</th>\n",
       "      <td>Eu to rindo d+ dos gado achando q o “império” ...</td>\n",
       "      <td>r2_gl</td>\n",
       "      <td>1</td>\n",
       "      <td>no</td>\n",
       "      <td>r2_gl_1130</td>\n",
       "      <td>_1189497137119318016</td>\n",
       "      <td>3239</td>\n",
       "      <td>[('eu', 'PROPESS'), ('to', 'PROPESS'), ('rindo...</td>\n",
       "      <td>[]</td>\n",
       "      <td>{'mt': 2, 'ces': 1, 'q': 1, 'né': 1, 'aheusnau...</td>\n",
       "    </tr>\n",
       "    <tr>\n",
       "      <th>1500</th>\n",
       "      <td>Eu ia ate dormir, mas esse filme que começou n...</td>\n",
       "      <td>r2_gl</td>\n",
       "      <td>1</td>\n",
       "      <td>no</td>\n",
       "      <td>r2_gl_228</td>\n",
       "      <td>_540729198592413696</td>\n",
       "      <td>537</td>\n",
       "      <td>[('eu', 'PROPESS'), ('ia', 'V'), ('ate', 'ADV'...</td>\n",
       "      <td>[]</td>\n",
       "      <td>{'globo': 1, 'filme': 1}</td>\n",
       "    </tr>\n",
       "    <tr>\n",
       "      <th>1501</th>\n",
       "      <td>To rindo com esse filme da globo kkkkkkkkkk</td>\n",
       "      <td>r2_gl</td>\n",
       "      <td>1</td>\n",
       "      <td>no</td>\n",
       "      <td>r2_gl_895</td>\n",
       "      <td>_1090786499325497345</td>\n",
       "      <td>1463</td>\n",
       "      <td>[('to', 'PROPESS'), ('rindo', 'V'), ('com', 'P...</td>\n",
       "      <td>[]</td>\n",
       "      <td>{'filme': 1}</td>\n",
       "    </tr>\n",
       "    <tr>\n",
       "      <th>1502</th>\n",
       "      <td>ESSE FINAL FOI FODA, mas os crente vao atacar ...</td>\n",
       "      <td>r2_gl</td>\n",
       "      <td>1</td>\n",
       "      <td>no</td>\n",
       "      <td>r2_gl_640</td>\n",
       "      <td>_1198065799027732480</td>\n",
       "      <td>33</td>\n",
       "      <td>[('esse', 'PROADJ'), ('final', 'N'), ('foi', '...</td>\n",
       "      <td>[]</td>\n",
       "      <td>{'kkkkkkkkk': 1, 'crente': 1, 'globo': 1, 'fin...</td>\n",
       "    </tr>\n",
       "    <tr>\n",
       "      <th>1503</th>\n",
       "      <td>chupa globo .... kkkkkkkkkkkk \"Teu Império vai...</td>\n",
       "      <td>r2_gl</td>\n",
       "      <td>0</td>\n",
       "      <td>no</td>\n",
       "      <td>r2_gl_1345</td>\n",
       "      <td>_1243663255752581120</td>\n",
       "      <td>3620</td>\n",
       "      <td>[('chupa', 'V'), ('@', 'NUM'), ('redeglobo', '...</td>\n",
       "      <td>['redeglobo']</td>\n",
       "      <td>{'merda': 1, 'roberto': 1, 'kkkkkkkkkkkk': 1, ...</td>\n",
       "    </tr>\n",
       "  </tbody>\n",
       "</table>\n",
       "<p>1504 rows × 10 columns</p>\n",
       "</div>"
      ],
      "text/plain": [
       "                                                   Text Target  Polarity  \\\n",
       "0     Olha só, extrema-direita, se vcs quiserem entr...  r2_gl         0   \n",
       "1     UFC ta começando na Globoo kkkkkkkkkkkkkkk Ago...  r2_gl         1   \n",
       "2                       Faz anos que eu boicoto a globo  r2_gl         0   \n",
       "3     Foi denunciado de assédio e violência por 12 m...  r2_gl         0   \n",
       "4     Vou entrar nessa também rs obrigado rede globo...  r2_gl         1   \n",
       "...                                                 ...    ...       ...   \n",
       "1499  Eu to rindo d+ dos gado achando q o “império” ...  r2_gl         1   \n",
       "1500  Eu ia ate dormir, mas esse filme que começou n...  r2_gl         1   \n",
       "1501        To rindo com esse filme da globo kkkkkkkkkk  r2_gl         1   \n",
       "1502  ESSE FINAL FOI FODA, mas os crente vao atacar ...  r2_gl         1   \n",
       "1503  chupa globo .... kkkkkkkkkkkk \"Teu Império vai...  r2_gl         0   \n",
       "\n",
       "     Factual     User_ID              Tweet_ID  Tweet_Seq  \\\n",
       "0         no   r2_gl_266  _1057399541379616768        760   \n",
       "1         no   r2_gl_791   _297945541030072320       1768   \n",
       "2         no  r2_gl_1138  _1063859144027979776        815   \n",
       "3        yes    r2_gl_93  _1320388211089309697       1527   \n",
       "4         no   r2_gl_276   _972309605484236800        408   \n",
       "...      ...         ...                   ...        ...   \n",
       "1499      no  r2_gl_1130  _1189497137119318016       3239   \n",
       "1500      no   r2_gl_228   _540729198592413696        537   \n",
       "1501      no   r2_gl_895  _1090786499325497345       1463   \n",
       "1502      no   r2_gl_640  _1198065799027732480         33   \n",
       "1503      no  r2_gl_1345  _1243663255752581120       3620   \n",
       "\n",
       "                                                    POS       Mentions  \\\n",
       "0     [('olha', 'V'), ('só', 'PDEN'), (',', 'PU'), (...             []   \n",
       "1     [('ufc', 'N'), ('ta', 'V'), ('começando', 'V')...             []   \n",
       "2     [('faz', 'V'), ('anos', 'N'), ('que', 'KS'), (...             []   \n",
       "3     [('@', 'NUM'), ('leviriet_', 'N'), ('foi', 'V'...  ['leviriet_']   \n",
       "4     [('vou', 'V'), ('entrar', 'V'), ('nessa', 'PRE...             []   \n",
       "...                                                 ...            ...   \n",
       "1499  [('eu', 'PROPESS'), ('to', 'PROPESS'), ('rindo...             []   \n",
       "1500  [('eu', 'PROPESS'), ('ia', 'V'), ('ate', 'ADV'...             []   \n",
       "1501  [('to', 'PROPESS'), ('rindo', 'V'), ('com', 'P...             []   \n",
       "1502  [('esse', 'PROADJ'), ('final', 'N'), ('foi', '...             []   \n",
       "1503  [('chupa', 'V'), ('@', 'NUM'), ('redeglobo', '...  ['redeglobo']   \n",
       "\n",
       "                                                  Nouns  \n",
       "0     {'mentes': 1, 'lei': 1, 'falha': 1, 'guerra': ...  \n",
       "1         {'ufc': 1, 'kkkkkkkkkkkkkkk': 1, 'globoo': 1}  \n",
       "2                               {'anos': 1, 'globo': 1}  \n",
       "3     {'violência': 1, 'leviriet_': 1, 'assédio': 1,...  \n",
       "4                      {'rede': 1, 'rs': 1, 'globo': 1}  \n",
       "...                                                 ...  \n",
       "1499  {'mt': 2, 'ces': 1, 'q': 1, 'né': 1, 'aheusnau...  \n",
       "1500                           {'globo': 1, 'filme': 1}  \n",
       "1501                                       {'filme': 1}  \n",
       "1502  {'kkkkkkkkk': 1, 'crente': 1, 'globo': 1, 'fin...  \n",
       "1503  {'merda': 1, 'roberto': 1, 'kkkkkkkkkkkk': 1, ...  \n",
       "\n",
       "[1504 rows x 10 columns]"
      ]
     },
     "execution_count": 87,
     "metadata": {},
     "output_type": "execute_result"
    }
   ],
   "source": [
    "df_test = pd.read_csv(r'..\\...\\Teste\\r2_gl_test_statements.csv', sep=';')\n",
    "df_test = df_test.drop(df_test[df_test.Polarity =='other'].index)\n",
    "df_test.Polarity.replace(('for', 'against'), (1,0), inplace=True)\n",
    "df_test = df_test.sample(frac=1).reset_index(drop=True)\n",
    "df_test"
   ]
  },
  {
   "cell_type": "code",
   "execution_count": 88,
   "metadata": {},
   "outputs": [
    {
     "data": {
      "text/html": [
       "<div>\n",
       "<style scoped>\n",
       "    .dataframe tbody tr th:only-of-type {\n",
       "        vertical-align: middle;\n",
       "    }\n",
       "\n",
       "    .dataframe tbody tr th {\n",
       "        vertical-align: top;\n",
       "    }\n",
       "\n",
       "    .dataframe thead th {\n",
       "        text-align: right;\n",
       "    }\n",
       "</style>\n",
       "<table border=\"1\" class=\"dataframe\">\n",
       "  <thead>\n",
       "    <tr style=\"text-align: right;\">\n",
       "      <th></th>\n",
       "      <th>Unnamed: 0</th>\n",
       "      <th>Text</th>\n",
       "    </tr>\n",
       "  </thead>\n",
       "  <tbody>\n",
       "    <tr>\n",
       "      <th>0</th>\n",
       "      <td>0</td>\n",
       "      <td>Bobeirada esses filmes da globo</td>\n",
       "    </tr>\n",
       "    <tr>\n",
       "      <th>1</th>\n",
       "      <td>1</td>\n",
       "      <td>a cravícula dela é feia,o globo ocular,a larin...</td>\n",
       "    </tr>\n",
       "    <tr>\n",
       "      <th>2</th>\n",
       "      <td>2</td>\n",
       "      <td>Eu ganhei o celular já com uma conta Globo pla...</td>\n",
       "    </tr>\n",
       "    <tr>\n",
       "      <th>3</th>\n",
       "      <td>3</td>\n",
       "      <td>A Globo tá sem programação, acho que por isso ...</td>\n",
       "    </tr>\n",
       "    <tr>\n",
       "      <th>4</th>\n",
       "      <td>4</td>\n",
       "      <td>Vai sair até na Globo, algumas pessoas vão cai...</td>\n",
       "    </tr>\n",
       "    <tr>\n",
       "      <th>...</th>\n",
       "      <td>...</td>\n",
       "      <td>...</td>\n",
       "    </tr>\n",
       "    <tr>\n",
       "      <th>29849</th>\n",
       "      <td>29849</td>\n",
       "      <td>faça um bem pra vc mesmo, não assista jornais ...</td>\n",
       "    </tr>\n",
       "    <tr>\n",
       "      <th>29850</th>\n",
       "      <td>29850</td>\n",
       "      <td>eu não aguento a globo repetindo que não tem m...</td>\n",
       "    </tr>\n",
       "    <tr>\n",
       "      <th>29851</th>\n",
       "      <td>29851</td>\n",
       "      <td>coloquem na globo ae ta dando reportagem massa...</td>\n",
       "    </tr>\n",
       "    <tr>\n",
       "      <th>29852</th>\n",
       "      <td>29852</td>\n",
       "      <td>serio que ta dando na globo? o filme francês a...</td>\n",
       "    </tr>\n",
       "    <tr>\n",
       "      <th>29853</th>\n",
       "      <td>29853</td>\n",
       "      <td>tim maia na globo, só isso tenho pra falar</td>\n",
       "    </tr>\n",
       "  </tbody>\n",
       "</table>\n",
       "<p>29854 rows × 2 columns</p>\n",
       "</div>"
      ],
      "text/plain": [
       "       Unnamed: 0                                               Text\n",
       "0               0                    Bobeirada esses filmes da globo\n",
       "1               1  a cravícula dela é feia,o globo ocular,a larin...\n",
       "2               2  Eu ganhei o celular já com uma conta Globo pla...\n",
       "3               3  A Globo tá sem programação, acho que por isso ...\n",
       "4               4  Vai sair até na Globo, algumas pessoas vão cai...\n",
       "...           ...                                                ...\n",
       "29849       29849  faça um bem pra vc mesmo, não assista jornais ...\n",
       "29850       29850  eu não aguento a globo repetindo que não tem m...\n",
       "29851       29851  coloquem na globo ae ta dando reportagem massa...\n",
       "29852       29852  serio que ta dando na globo? o filme francês a...\n",
       "29853       29853         tim maia na globo, só isso tenho pra falar\n",
       "\n",
       "[29854 rows x 2 columns]"
      ]
     },
     "execution_count": 88,
     "metadata": {},
     "output_type": "execute_result"
    }
   ],
   "source": [
    "#carregando unlabeled data\n",
    "df_u = pd.read_csv(r'..\\...\\Unlabeled\\globo.csv')\n",
    "df_u"
   ]
  },
  {
   "cell_type": "code",
   "execution_count": 89,
   "metadata": {},
   "outputs": [],
   "source": [
    "rows_train = len(df_train.index)\n",
    "rows_test = len(df_test.index)\n",
    "rows_label=rows_train+rows_test"
   ]
  },
  {
   "cell_type": "code",
   "execution_count": 90,
   "metadata": {},
   "outputs": [
    {
     "data": {
      "text/plain": [
       "29854"
      ]
     },
     "execution_count": 90,
     "metadata": {},
     "output_type": "execute_result"
    }
   ],
   "source": [
    "rows_unlabel = len(df_u.index)\n",
    "rows_unlabel"
   ]
  },
  {
   "cell_type": "code",
   "execution_count": 91,
   "metadata": {},
   "outputs": [
    {
     "data": {
      "text/plain": [
       "0        Quero saber é da lei pros mandantes dos jogos ...\n",
       "1        Como não amar a carinha de deboche do golpista...\n",
       "2        Aquela emissora empregada da Globo, que se cha...\n",
       "3                                 RRRRREDE GLOBO APRESENTA\n",
       "4        Gente a própria Globo já se pronunciou negando...\n",
       "                               ...                        \n",
       "29849    faça um bem pra vc mesmo, não assista jornais ...\n",
       "29850    eu não aguento a globo repetindo que não tem m...\n",
       "29851    coloquem na globo ae ta dando reportagem massa...\n",
       "29852    serio que ta dando na globo? o filme francês a...\n",
       "29853           tim maia na globo, só isso tenho pra falar\n",
       "Name: Text, Length: 35867, dtype: object"
      ]
     },
     "execution_count": 91,
     "metadata": {},
     "output_type": "execute_result"
    }
   ],
   "source": [
    "frames = [df_train.Text, df_test.Text, df_u.Text]\n",
    "X = pd.concat(frames)\n",
    "X"
   ]
  },
  {
   "cell_type": "code",
   "execution_count": 92,
   "metadata": {},
   "outputs": [
    {
     "data": {
      "text/plain": [
       "(35867, 36916)"
      ]
     },
     "execution_count": 92,
     "metadata": {},
     "output_type": "execute_result"
    }
   ],
   "source": [
    "#vetoriza conjunto completo\n",
    "from sklearn.feature_extraction.text import TfidfTransformer\n",
    "count_vect = CountVectorizer( )\n",
    "X_counts = count_vect.fit_transform(X)\n",
    "X_counts.shape"
   ]
  },
  {
   "cell_type": "code",
   "execution_count": 93,
   "metadata": {},
   "outputs": [
    {
     "data": {
      "text/plain": [
       "(35867, 36916)"
      ]
     },
     "execution_count": 93,
     "metadata": {},
     "output_type": "execute_result"
    }
   ],
   "source": [
    "tf_transformer = TfidfTransformer(use_idf=False).fit(X_counts)\n",
    "X_tf = tf_transformer.transform(X_counts)\n",
    "X_tf.shape\n",
    "X_ori = X_tf\n",
    "X_ori.shape"
   ]
  },
  {
   "cell_type": "code",
   "execution_count": 94,
   "metadata": {},
   "outputs": [
    {
     "data": {
      "text/plain": [
       "(1504, 36916)"
      ]
     },
     "execution_count": 94,
     "metadata": {},
     "output_type": "execute_result"
    }
   ],
   "source": [
    "x_train = X_ori[0:rows_train,:]\n",
    "x_test = X_ori[rows_train:rows_train+rows_test,:]\n",
    "x_test.shape\n"
   ]
  },
  {
   "cell_type": "code",
   "execution_count": 95,
   "metadata": {},
   "outputs": [
    {
     "data": {
      "text/plain": [
       "(1504,)"
      ]
     },
     "execution_count": 95,
     "metadata": {},
     "output_type": "execute_result"
    }
   ],
   "source": [
    "#y_ori = df.Polarity\n",
    "y_train = df_train.Polarity\n",
    "y_test = df_test.Polarity\n",
    "y_test.shape"
   ]
  },
  {
   "cell_type": "code",
   "execution_count": 96,
   "metadata": {},
   "outputs": [
    {
     "data": {
      "text/plain": [
       "0.7865691489361702"
      ]
     },
     "execution_count": 96,
     "metadata": {},
     "output_type": "execute_result"
    }
   ],
   "source": [
    "#classificação\n",
    "from sklearn.linear_model import LogisticRegression\n",
    "from sklearn.metrics import f1_score\n",
    "from sklearn.metrics import accuracy_score\n",
    "from sklearn.metrics import precision_score\n",
    "from sklearn.metrics import recall_score\n",
    "model = LogisticRegression(random_state=0)\n",
    "model.fit(x_train,y_train)\n",
    "pred_values = model.predict(x_test)     \n",
    "acc = accuracy_score(pred_values , y_test)\n",
    "acc"
   ]
  },
  {
   "cell_type": "code",
   "execution_count": 97,
   "metadata": {},
   "outputs": [
    {
     "data": {
      "text/plain": [
       "0.7823665046081858"
      ]
     },
     "execution_count": 97,
     "metadata": {},
     "output_type": "execute_result"
    }
   ],
   "source": [
    "f1_score(y_test, pred_values, average='macro')"
   ]
  },
  {
   "cell_type": "code",
   "execution_count": 98,
   "metadata": {},
   "outputs": [
    {
     "data": {
      "text/plain": [
       "0.7851645543837826"
      ]
     },
     "execution_count": 98,
     "metadata": {},
     "output_type": "execute_result"
    }
   ],
   "source": [
    "precision_score(y_test, pred_values, average='macro')"
   ]
  },
  {
   "cell_type": "code",
   "execution_count": 99,
   "metadata": {},
   "outputs": [
    {
     "data": {
      "text/plain": [
       "0.7807889006675643"
      ]
     },
     "execution_count": 99,
     "metadata": {},
     "output_type": "execute_result"
    }
   ],
   "source": [
    "recall_score(y_test, pred_values, average='macro')"
   ]
  },
  {
   "cell_type": "code",
   "execution_count": 100,
   "metadata": {},
   "outputs": [],
   "source": [
    "#predição dos não-rotulados\n",
    "X_label = X_ori[rows_label:rows_label+ rows_unlabel]\n",
    "pred_values_label= model.predict(X_label) "
   ]
  },
  {
   "cell_type": "code",
   "execution_count": 101,
   "metadata": {},
   "outputs": [],
   "source": [
    "#avalia a probabilidade de estar certo\n",
    "prob_label = model.predict_proba(X_label) \n"
   ]
  },
  {
   "cell_type": "code",
   "execution_count": 102,
   "metadata": {},
   "outputs": [
    {
     "data": {
      "text/plain": [
       "4509"
      ]
     },
     "execution_count": 102,
     "metadata": {},
     "output_type": "execute_result"
    }
   ],
   "source": [
    "#seleciona os itens que vão entrar no conjunto de treino\n",
    "threshold = 0.4\n",
    "t_size = int(threshold*rows_unlabel) #quanto vai adicionar a cada iteração\n",
    "rows_train = x_train.shape[0]\n",
    "rows_train"
   ]
  },
  {
   "cell_type": "code",
   "execution_count": 103,
   "metadata": {},
   "outputs": [],
   "source": [
    "reliable_pred_favor, reliable_pred_against  = [], []\n",
    "for x_id, (prob, pred) in enumerate(zip(prob_label, pred_values_label)):\n",
    "    #se 1, inclui no favor; senão, no against\n",
    "    #incluir id, probabilidade e valor predito (1 ou 0)\n",
    "    (reliable_pred_favor if (pred_values_label[x_id]) else reliable_pred_against).append((x_id, prob_label[x_id,pred_values_label[x_id]], pred_values_label[x_id]))\n",
    "    "
   ]
  },
  {
   "cell_type": "code",
   "execution_count": 104,
   "metadata": {},
   "outputs": [],
   "source": [
    "#coloca em ordem decrescente de confiabilidade a partir da probabilidade (coluna 2)\n",
    "reliable_pred_favor = sorted(reliable_pred_favor, key=lambda x: x[1], reverse=True)\n",
    "reliable_pred_against = sorted(reliable_pred_against, key=lambda x: x[1], reverse=True)"
   ]
  },
  {
   "cell_type": "code",
   "execution_count": 105,
   "metadata": {},
   "outputs": [
    {
     "name": "stdout",
     "output_type": "stream",
     "text": [
      "iteraction: 0.4 accuracy: 0.7613031914893617\n"
     ]
    },
    {
     "name": "stderr",
     "output_type": "stream",
     "text": [
      "C:\\Users\\camil\\anaconda3\\lib\\site-packages\\sklearn\\linear_model\\_logistic.py:814: ConvergenceWarning: lbfgs failed to converge (status=1):\n",
      "STOP: TOTAL NO. of ITERATIONS REACHED LIMIT.\n",
      "\n",
      "Increase the number of iterations (max_iter) or scale the data as shown in:\n",
      "    https://scikit-learn.org/stable/modules/preprocessing.html\n",
      "Please also refer to the documentation for alternative solver options:\n",
      "    https://scikit-learn.org/stable/modules/linear_model.html#logistic-regression\n",
      "  n_iter_i = _check_optimize_result(\n"
     ]
    },
    {
     "name": "stdout",
     "output_type": "stream",
     "text": [
      "iteraction: 0.8 accuracy: 0.75\n"
     ]
    },
    {
     "ename": "IndexError",
     "evalue": "list index out of range",
     "output_type": "error",
     "traceback": [
      "\u001b[1;31m---------------------------------------------------------------------------\u001b[0m",
      "\u001b[1;31mIndexError\u001b[0m                                Traceback (most recent call last)",
      "\u001b[1;32m~\\AppData\\Local\\Temp\\ipykernel_10916\\548753063.py\u001b[0m in \u001b[0;36m<module>\u001b[1;34m\u001b[0m\n\u001b[0;32m      9\u001b[0m     \u001b[1;32mfor\u001b[0m \u001b[0mi\u001b[0m \u001b[1;32min\u001b[0m \u001b[0mrange\u001b[0m\u001b[1;33m(\u001b[0m\u001b[0mint\u001b[0m\u001b[1;33m(\u001b[0m\u001b[0mt_size\u001b[0m\u001b[1;33m/\u001b[0m\u001b[1;36m2\u001b[0m\u001b[1;33m)\u001b[0m\u001b[1;33m)\u001b[0m\u001b[1;33m:\u001b[0m\u001b[1;33m\u001b[0m\u001b[1;33m\u001b[0m\u001b[0m\n\u001b[0;32m     10\u001b[0m         \u001b[1;31m#pega um a favor\u001b[0m\u001b[1;33m\u001b[0m\u001b[1;33m\u001b[0m\u001b[1;33m\u001b[0m\u001b[0m\n\u001b[1;32m---> 11\u001b[1;33m         \u001b[0mindex\u001b[0m \u001b[1;33m=\u001b[0m \u001b[0mreliable_pred_favor\u001b[0m\u001b[1;33m[\u001b[0m\u001b[0mposition\u001b[0m\u001b[1;33m]\u001b[0m\u001b[1;33m[\u001b[0m\u001b[1;36m0\u001b[0m\u001b[1;33m]\u001b[0m \u001b[1;31m#descobre a posição no X_label\u001b[0m\u001b[1;33m\u001b[0m\u001b[1;33m\u001b[0m\u001b[0m\n\u001b[0m\u001b[0;32m     12\u001b[0m         \u001b[0mindex_list\u001b[0m\u001b[1;33m.\u001b[0m\u001b[0mappend\u001b[0m\u001b[1;33m(\u001b[0m\u001b[0mindex\u001b[0m\u001b[1;33m+\u001b[0m\u001b[0mrows_label\u001b[0m\u001b[1;33m)\u001b[0m \u001b[1;31m#inclui na lista de indices\u001b[0m\u001b[1;33m\u001b[0m\u001b[1;33m\u001b[0m\u001b[0m\n\u001b[0;32m     13\u001b[0m         \u001b[0my\u001b[0m \u001b[1;33m=\u001b[0m \u001b[0mnp\u001b[0m\u001b[1;33m.\u001b[0m\u001b[0mappend\u001b[0m\u001b[1;33m(\u001b[0m\u001b[0my\u001b[0m\u001b[1;33m,\u001b[0m \u001b[1;36m1\u001b[0m\u001b[1;33m)\u001b[0m \u001b[1;31m#empilha o y\u001b[0m\u001b[1;33m\u001b[0m\u001b[1;33m\u001b[0m\u001b[0m\n",
      "\u001b[1;31mIndexError\u001b[0m: list index out of range"
     ]
    }
   ],
   "source": [
    "y= np.asarray(y_train)\n",
    "index_list=[x for x in range(0, rows_train)] #indices para o novo X a partir do X original\n",
    "iteractions = 0\n",
    "position = 0\n",
    "index_labels=[x for x in range(rows_label, rows_label+ rows_unlabel)]\n",
    "\n",
    "while iteractions < 0.99:\n",
    "    iteractions = iteractions + threshold\n",
    "    for i in range(int(t_size/2)):\n",
    "        #pega um a favor\n",
    "        index = reliable_pred_favor[position][0] #descobre a posição no X_label \n",
    "        index_list.append(index+rows_label) #inclui na lista de indices\n",
    "        y = np.append(y, 1) #empilha o y\n",
    "        index_labels.remove(index+rows_label)\n",
    "        #pega um contra\n",
    "        index = reliable_pred_against[position][0] #descobre a posição no X_label \n",
    "        index_list.append(index+rows_label) #inclui na lista de indices\n",
    "        y = np.append(y, 0) #empilha o y\n",
    "        index_labels.remove(index+rows_label)\n",
    "        #anda uma posição nos dois \n",
    "        position+=1\n",
    "\n",
    "    X_train_novo = X_ori[index_list,:]#atualiza o X rotulado com os índices que estão em index_list\n",
    "    X_label = X_ori[index_labels,:] #pega só os índices que sobraram\n",
    "    rows_unlabel = X_label.get_shape()[0] #novo número de linhas sem rótulo\n",
    "    rows_label = X_train_novo.get_shape()[0] + rows_test #linhas com rótulo novas + as de teste que estão guardadas\n",
    "    X_ori = sparse.vstack([X_train_novo, x_test, X_label]) #empilha treino, teste e unlabelled\n",
    "    index_labels=[x for x in range(rows_label, rows_label+ rows_unlabel)] #atualiza os unlabelled\n",
    "    position = 0\n",
    "\n",
    "    model_novo = LogisticRegression(random_state=0)\n",
    "    model_novo.fit(X_train_novo,y)\n",
    "    #testa nos conjuntos originais\n",
    "    pred_values_novo = model_novo.predict(x_test)     \n",
    "    acc = accuracy_score(pred_values_novo , y_test)\n",
    "    print(\"iteraction:\",iteractions, \"accuracy:\", acc)\n",
    "    \n",
    "    pred_values_label= model_novo.predict(X_label) \n",
    "    prob_label = model.predict_proba(X_label) \n",
    "    reliable_pred_favor, reliable_pred_against  = [], []\n",
    "    for x_id, (prob, pred) in enumerate(zip(prob_label, pred_values_label)):\n",
    "        (reliable_pred_favor if (pred_values_label[x_id]) else reliable_pred_against).append((x_id, prob_label[x_id,pred_values_label[x_id]], pred_values_label[x_id]))\n",
    "    \n",
    "    reliable_pred_favor = sorted(reliable_pred_favor, key=lambda x: x[1], reverse=True)\n",
    "    reliable_pred_against = sorted(reliable_pred_against, key=lambda x: x[1], reverse=True)    \n",
    "    \n",
    "    index_labels=[x for x in range(rows_label, rows_label+ rows_unlabel)]"
   ]
  },
  {
   "cell_type": "code",
   "execution_count": 207,
   "metadata": {},
   "outputs": [
    {
     "data": {
      "text/plain": [
       "33902"
      ]
     },
     "execution_count": 207,
     "metadata": {},
     "output_type": "execute_result"
    }
   ],
   "source": []
  },
  {
   "cell_type": "code",
   "execution_count": null,
   "metadata": {},
   "outputs": [],
   "source": []
  },
  {
   "cell_type": "code",
   "execution_count": null,
   "metadata": {},
   "outputs": [],
   "source": []
  }
 ],
 "metadata": {
  "kernelspec": {
   "display_name": "Python 3 (ipykernel)",
   "language": "python",
   "name": "python3"
  },
  "language_info": {
   "codemirror_mode": {
    "name": "ipython",
    "version": 3
   },
   "file_extension": ".py",
   "mimetype": "text/x-python",
   "name": "python",
   "nbconvert_exporter": "python",
   "pygments_lexer": "ipython3",
   "version": "3.8.3"
  }
 },
 "nbformat": 4,
 "nbformat_minor": 4
}
